{
 "cells": [
  {
   "cell_type": "markdown",
   "metadata": {},
   "source": [
    "## Getting started"
   ]
  },
  {
   "cell_type": "code",
   "execution_count": 1,
   "metadata": {},
   "outputs": [],
   "source": [
    "# alright before i do anything i have to make sure that all the python packages are available on my local network!\n",
    "\n",
    "import matplotlib as mpl\n",
    "mpl.use('Agg')\n",
    "import matplotlib.pyplot as plt\n",
    "import numpy as np\n",
    "from netCDF4 import Dataset\n",
    "import matplotlib.pyplot as plt\n",
    "from matplotlib.cm import get_cmap\n",
    "from mpl_toolkits.basemap import Basemap\n",
    "from matplotlib.patches import Polygon\n",
    "import pandas as pd\n",
    "from pandas import Timestamp\n",
    "from wrf import to_np, getvar, smooth2d, get_basemap, latlon_coords, extract_times, ALL_TIMES, interplevel\n",
    "import sys, os\n",
    "from glob import glob\n",
    "import xarray as xr"
   ]
  },
  {
   "cell_type": "code",
   "execution_count": 2,
   "metadata": {},
   "outputs": [],
   "source": [
    "mpl.font_manager._rebuild()\n",
    "\n",
    "mpl.rcParams['font.family'] = 'Arial'\n",
    "mpl.rcParams['font.style'] = 'normal'"
   ]
  },
  {
   "cell_type": "markdown",
   "metadata": {},
   "source": [
    "## Define some important landmarks"
   ]
  },
  {
   "cell_type": "code",
   "execution_count": 3,
   "metadata": {},
   "outputs": [],
   "source": [
    "def landmarks():\n",
    "    landmark_dict = {'C':(-64.2123,-31.3154),\n",
    "                    'M':(-68.7987,-32.8278),\n",
    "                    '3':(-64.1131,-32.1767),\n",
    "                    '4':(-64.34992,-33.13067), \n",
    "                    'Y':(-64.7545,-32.1062),\n",
    "                    'S':(-63.978435,-31.715689),\n",
    "                    'SR':(-68.285522,-34.587997),\n",
    "                    'SL':(-66.33694,-33.30278)}\n",
    "    return landmark_dict\n",
    "\n",
    "landmark_dict=landmarks()"
   ]
  },
  {
   "cell_type": "markdown",
   "metadata": {},
   "source": [
    "## Select run/time, zoom"
   ]
  },
  {
   "cell_type": "code",
   "execution_count": 4,
   "metadata": {},
   "outputs": [
    {
     "name": "stdout",
     "output_type": "stream",
     "text": [
      "2016-12-26_00:00:00 0\n"
     ]
    }
   ],
   "source": [
    "## Example:\n",
    "\n",
    "run='2016-12-26_00:00:00'\n",
    "tindex=int(0)\n",
    "zoom='full'\n",
    "\n",
    "## This is in the script, not sure what it means\n",
    "\n",
    "#run=sys.argv[1] #listed under wrfplotting_full_domain\n",
    "#tindex=int(sys.argv[2])\n",
    "#zoom=sys.argv[3]\n",
    "\n",
    "#run='2016-12-25_00:00:00'\n",
    "#tindex=np.all([])\n",
    "#tindex=np.arange(0,60,1) # i have 61 wrfout* files\n",
    "\n",
    "#run=filenames[0] # selects the first file in filenames\n",
    "#tindex=int(0)\n",
    "#zoom='full'\n",
    "\n",
    "## print(filenames)\n",
    "print(run, tindex)"
   ]
  },
  {
   "cell_type": "markdown",
   "metadata": {},
   "source": [
    "## Make path and create filenames"
   ]
  },
  {
   "cell_type": "code",
   "execution_count": 9,
   "metadata": {},
   "outputs": [],
   "source": [
    "titlestr='University of Illinois GFS-WRF'\n",
    "modname='UIUC_GFS'\n",
    "path = \"/Users/jpiers/Desktop/WRF_DEC16/\" # set path to where WRF output files are located\n",
    "filenames = sorted(glob(path+\"wrfout*\")) # define wrf_files, sorted by time\n",
    "outpath = 'DEC16_images/'+run+''"
   ]
  },
  {
   "cell_type": "markdown",
   "metadata": {},
   "source": [
    "## Configuration Parameters"
   ]
  },
  {
   "cell_type": "code",
   "execution_count": 10,
   "metadata": {},
   "outputs": [
    {
     "data": {
      "text/plain": [
       "0"
      ]
     },
     "execution_count": 10,
     "metadata": {},
     "output_type": "execute_result"
    }
   ],
   "source": [
    "## Makes folder specific to run within the current directory - in this case, DEC16_notebooks\n",
    "os.system('mkdir -p '+outpath)"
   ]
  },
  {
   "cell_type": "code",
   "execution_count": 11,
   "metadata": {},
   "outputs": [
    {
     "name": "stdout",
     "output_type": "stream",
     "text": [
      "2016-12-26 00:00:00\n"
     ]
    }
   ],
   "source": [
    "## Used to log the files and times that were run\n",
    "## Probably not necessary for running individual plots\n",
    "\n",
    "basetime=pd.to_datetime(run, format='%Y-%m-%d_%H:%M:%S')\n",
    "\n",
    "files=[]\n",
    "times=[]\n",
    "#times=pd.date_range(start=basetime,periods=43,freq='H')\n",
    "\n",
    "print(basetime)"
   ]
  },
  {
   "cell_type": "code",
   "execution_count": 12,
   "metadata": {},
   "outputs": [
    {
     "name": "stdout",
     "output_type": "stream",
     "text": [
      "2016-12-25_00:00:00\n",
      "2016-12-25_01:00:00\n",
      "2016-12-25_02:00:00\n",
      "2016-12-25_03:00:00\n",
      "2016-12-25_04:00:00\n",
      "2016-12-25_05:00:00\n",
      "2016-12-25_06:00:00\n",
      "2016-12-25_07:00:00\n",
      "2016-12-25_08:00:00\n",
      "2016-12-25_09:00:00\n",
      "2016-12-25_10:00:00\n",
      "2016-12-25_11:00:00\n",
      "2016-12-25_12:00:00\n",
      "2016-12-25_13:00:00\n",
      "2016-12-25_14:00:00\n",
      "2016-12-25_15:00:00\n",
      "2016-12-25_16:00:00\n",
      "2016-12-25_17:00:00\n",
      "2016-12-25_18:00:00\n",
      "2016-12-25_19:00:00\n",
      "2016-12-25_20:00:00\n",
      "2016-12-25_21:00:00\n",
      "2016-12-25_22:00:00\n",
      "2016-12-25_23:00:00\n",
      "2016-12-26_00:00:00\n",
      "2016-12-26_01:00:00\n",
      "2016-12-26_02:00:00\n",
      "2016-12-26_03:00:00\n"
     ]
    },
    {
     "ename": "OSError",
     "evalue": "[Errno -51] NetCDF: Unknown file format: b'/Users/jpiers/Desktop/WRF_DEC16/wrfout_d01_2016-12-26_04:00:00'",
     "output_type": "error",
     "traceback": [
      "\u001b[0;31m---------------------------------------------------------------------------\u001b[0m",
      "\u001b[0;31mOSError\u001b[0m                                   Traceback (most recent call last)",
      "\u001b[0;32m<ipython-input-12-4affa8a3c488>\u001b[0m in \u001b[0;36m<module>\u001b[0;34m()\u001b[0m\n\u001b[1;32m      1\u001b[0m \u001b[0;32mfor\u001b[0m \u001b[0mfile\u001b[0m \u001b[0;32min\u001b[0m \u001b[0mfilenames\u001b[0m\u001b[0;34m:\u001b[0m\u001b[0;34m\u001b[0m\u001b[0m\n\u001b[1;32m      2\u001b[0m         \u001b[0;31m#files.append(Dataset('/data/meso/a/jmulhol2/RELAMPAGO_Dry_Run_Data/12_Nov_2015/UIUC_WRF_runs/wrfout_d01_'+params['times'][params['time_index']].strftime('%Y-%m-%d %H:%M')))\u001b[0m\u001b[0;34m\u001b[0m\u001b[0;34m\u001b[0m\u001b[0m\n\u001b[0;32m----> 3\u001b[0;31m         \u001b[0mfiles\u001b[0m\u001b[0;34m.\u001b[0m\u001b[0mappend\u001b[0m\u001b[0;34m(\u001b[0m\u001b[0mDataset\u001b[0m\u001b[0;34m(\u001b[0m\u001b[0mfile\u001b[0m\u001b[0;34m)\u001b[0m\u001b[0;34m)\u001b[0m\u001b[0;34m\u001b[0m\u001b[0m\n\u001b[0m\u001b[1;32m      4\u001b[0m         \u001b[0mprint\u001b[0m\u001b[0;34m(\u001b[0m\u001b[0mos\u001b[0m\u001b[0;34m.\u001b[0m\u001b[0mpath\u001b[0m\u001b[0;34m.\u001b[0m\u001b[0mbasename\u001b[0m\u001b[0;34m(\u001b[0m\u001b[0mfile\u001b[0m\u001b[0;34m)\u001b[0m\u001b[0;34m[\u001b[0m\u001b[0;36m11\u001b[0m\u001b[0;34m:\u001b[0m\u001b[0;34m]\u001b[0m\u001b[0;34m)\u001b[0m\u001b[0;34m\u001b[0m\u001b[0m\n\u001b[1;32m      5\u001b[0m         \u001b[0mtimes\u001b[0m\u001b[0;34m.\u001b[0m\u001b[0mappend\u001b[0m\u001b[0;34m(\u001b[0m\u001b[0mpd\u001b[0m\u001b[0;34m.\u001b[0m\u001b[0mto_datetime\u001b[0m\u001b[0;34m(\u001b[0m\u001b[0mos\u001b[0m\u001b[0;34m.\u001b[0m\u001b[0mpath\u001b[0m\u001b[0;34m.\u001b[0m\u001b[0mbasename\u001b[0m\u001b[0;34m(\u001b[0m\u001b[0mfile\u001b[0m\u001b[0;34m)\u001b[0m\u001b[0;34m[\u001b[0m\u001b[0;36m11\u001b[0m\u001b[0;34m:\u001b[0m\u001b[0;34m]\u001b[0m\u001b[0;34m,\u001b[0m\u001b[0mformat\u001b[0m\u001b[0;34m=\u001b[0m\u001b[0;34m'%Y-%m-%d_%H:%M:%S'\u001b[0m\u001b[0;34m)\u001b[0m\u001b[0;34m)\u001b[0m\u001b[0;34m\u001b[0m\u001b[0m\n",
      "\u001b[0;32mnetCDF4/_netCDF4.pyx\u001b[0m in \u001b[0;36mnetCDF4._netCDF4.Dataset.__init__\u001b[0;34m()\u001b[0m\n",
      "\u001b[0;32mnetCDF4/_netCDF4.pyx\u001b[0m in \u001b[0;36mnetCDF4._netCDF4._ensure_nc_success\u001b[0;34m()\u001b[0m\n",
      "\u001b[0;31mOSError\u001b[0m: [Errno -51] NetCDF: Unknown file format: b'/Users/jpiers/Desktop/WRF_DEC16/wrfout_d01_2016-12-26_04:00:00'"
     ]
    }
   ],
   "source": [
    "for file in filenames:\n",
    "        #files.append(Dataset('/data/meso/a/jmulhol2/RELAMPAGO_Dry_Run_Data/12_Nov_2015/UIUC_WRF_runs/wrfout_d01_'+params['times'][params['time_index']].strftime('%Y-%m-%d %H:%M')))\n",
    "        files.append(Dataset(file))\n",
    "        print(os.path.basename(file)[11:])\n",
    "        times.append(pd.to_datetime(os.path.basename(file)[11:],format='%Y-%m-%d_%H:%M:%S'))"
   ]
  },
  {
   "cell_type": "code",
   "execution_count": 13,
   "metadata": {},
   "outputs": [],
   "source": [
    "## Define function 'make_plot'\n",
    "\n",
    "def make_plot(cffield,lfield,lfield2,ufld,vfld,params):\n",
    "# Get the latitude and longitude points\n",
    "\n",
    "    print(params['time_index'])\n",
    "    \n",
    "    lats, lons = latlon_coords(cffield)\n",
    "\n",
    "    # Get the basemap object\n",
    "\n",
    "    if params['zoom'] == 'full':\n",
    "        bm = Basemap(projection='lcc',width=3000*550,height=3000*375,\n",
    "        resolution='i',lat_1=-32.8,lat_2=-32.8,lat_0=-32.8,lon_0=-67.0)\n",
    "        fs=12\n",
    "        params['skip']=17\n",
    "\n",
    "    if params['zoom'] == 'cordoba_zoom':\n",
    "        bm = Basemap(projection='lcc',width=1500*550,height=1500*375,\n",
    "        resolution='i',lat_1=-32.2,lat_2=-32.2,lat_0=-32.2,lon_0=-65.0)\n",
    "        fs=14 \n",
    "        params['skip']=9\n",
    "    \n",
    "    if params['zoom'] == 'mendoza_zoom':\n",
    "        bm = Basemap(projection='lcc',width=1500*550,height=1500*375,\n",
    "        resolution='i',lat_1=-33.2,lat_2=-33.2,lat_0=-33.2,lon_0=-69.0)\n",
    "        fs=14 \n",
    "        params['skip']=9\n",
    "\n",
    "    # Create a figure\n",
    "    fig = plt.figure(figsize=(12,9))\n",
    "\n",
    "    # Add geographic outlines\n",
    "    bm.drawcoastlines(linewidth=0.75)\n",
    "    bm.drawstates(linewidth=1.)\n",
    "    bm.drawcountries(linewidth=1.)\n",
    "\n",
    "    # Convert the lats and lons to x and y.  Make sure you convert the lats and lons to\n",
    "    # numpy arrays via to_np, or basemap crashes with an undefined RuntimeError.\n",
    "    x, y = bm(to_np(lons), to_np(lats))\n",
    "\n",
    "\n",
    "    if lfield is not None:\n",
    "        CS=bm.contour(x, y, to_np(lfield), 10, colors=\"black\", levels=params['llevels'],linewidths=1.0)\n",
    "        plt.clabel(CS, inline=1, fontsize=12, fmt='%d')\n",
    "\n",
    "    if lfield2 is not None:\n",
    "        CS=bm.contour(x, y, to_np(lfield2), 10, colors=\"dimgrey\", levels=params['llevels2'],linewidths=2.25)\n",
    "        #plt.clabel(CS, inline=1, fontsize=12, fmt='%d')\n",
    "    \n",
    "    if ufld is not None:\n",
    "        bm.barbs(x[::params['skip'],::params['skip']], \n",
    "                 y[::params['skip'],::params['skip']], \n",
    "                 to_np(ufld[::params['skip'],::params['skip']]),\n",
    "                 to_np(vfld[::params['skip'],::params['skip']]), length=5, linewidth=0.75, zorder=10)\n",
    "\n",
    "    if not('lalpha' in params):\n",
    "        params['lalpha']=None\n",
    "        \n",
    "\n",
    "    # Draw the contours and filled contours\n",
    "    bm.contourf(x, y, to_np(cffield), 10, cmap=get_cmap(params['ccmap']), levels=params['clevels'], extend='both',\n",
    "               alpha=params['lalpha'])\n",
    "\n",
    "\n",
    "    parallels = np.arange(-50.,-10.,2.)\n",
    "    # labels = [left,right,top,bottom]\n",
    "    bm.drawparallels(parallels,labels=[False,True,False,False],linewidth=0.5,dashes=[2,2])\n",
    "    meridians = np.arange(-90.,-50.,2.)\n",
    "    bm.drawmeridians(meridians,labels=[False,False,False,True],linewidth=0.5,dashes=[2,2])\n",
    "\n",
    "    # Add a color bar\n",
    "    plt.colorbar(shrink=.62, extend='both')\n",
    "\n",
    "    timediff=params['times'][params['time_index']]-params['times'][0]\n",
    "    timediff_secs=int(timediff.total_seconds()//3600)\n",
    "\n",
    "    plt.title(titlestr+' '+cffield.description+' ('+cffield.units+')\\n'+\n",
    "             \"Initialized: \"+params['times'][0].strftime('%Y-%m-%d %H:%M')+\"Z Forecast hour: \"+'{:03d}'.format(timediff_secs)+\" Valid: \"+params['times'][params['time_index']].strftime('%Y-%m-%d %H:%M')+'Z')\n",
    "\n",
    "    for key in landmark_dict.keys():\n",
    "        kx,ky=bm(landmark_dict[key][0],landmark_dict[key][1])\n",
    "        plt.text(kx,ky,key,fontsize=fs,\n",
    "                        ha='center',va='center',color='b')\n",
    "    #fig.figimage(im, fig.bbox.xmax-290, fig.bbox.ymin,zorder=10)"
   ]
  },
  {
   "cell_type": "code",
   "execution_count": 15,
   "metadata": {},
   "outputs": [
    {
     "name": "stdout",
     "output_type": "stream",
     "text": [
      "0\n"
     ]
    }
   ],
   "source": [
    "#=====================PRECIPITABLE WATER=========================\n",
    "params={'outpath':outpath,\n",
    "        'modname':modname,\n",
    "        'modfld':'Precipitable_Water',\n",
    "        'cfield':'pw',\n",
    "        'clevels':np.arange(15,75,5),\n",
    "        'ccmap':\"viridis_r\",\n",
    "        'llevels':None,\n",
    "        'llevels2':[1000],\n",
    "        'time_index':tindex,\n",
    "        'times':times,\n",
    "        'zoom':zoom,\n",
    "        'skip':17}\n",
    "\n",
    "cffield = getvar(files, params['cfield'], timeidx=params['time_index'])\n",
    "lfield = None\n",
    "lfield2 = getvar(files, 'ter', timeidx=params['time_index'], units='m')\n",
    "ufld = None\n",
    "vfld = None\n",
    "\n",
    "make_plot(cffield,lfield,lfield2,ufld,vfld,params)"
   ]
  },
  {
   "cell_type": "code",
   "execution_count": 16,
   "metadata": {},
   "outputs": [],
   "source": [
    "plt.show()"
   ]
  },
  {
   "cell_type": "code",
   "execution_count": null,
   "metadata": {},
   "outputs": [],
   "source": []
  }
 ],
 "metadata": {
  "kernelspec": {
   "display_name": "Python 3",
   "language": "python",
   "name": "python3"
  },
  "language_info": {
   "codemirror_mode": {
    "name": "ipython",
    "version": 3
   },
   "file_extension": ".py",
   "mimetype": "text/x-python",
   "name": "python",
   "nbconvert_exporter": "python",
   "pygments_lexer": "ipython3",
   "version": "3.6.5"
  }
 },
 "nbformat": 4,
 "nbformat_minor": 2
}
